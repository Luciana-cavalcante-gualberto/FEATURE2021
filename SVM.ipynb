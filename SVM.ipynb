{
 "cells": [
  {
   "cell_type": "markdown",
   "metadata": {},
   "source": [
    "# Começa aqui o desafio proposto:\n",
    "\n",
    "### Criar um modelo SVM para prever duas colunas de observações presente no banco de dados"
   ]
  },
  {
   "cell_type": "markdown",
   "metadata": {},
   "source": [
    "###### O passso inicial para uma análise de dados é a leitura dos dados. O banco de dados fornecido foi salvo na pasta \"Desktop\" com o nome \"desafio.csv\"."
   ]
  },
  {
   "cell_type": "code",
   "execution_count": 1,
   "metadata": {},
   "outputs": [
    {
     "name": "stderr",
     "output_type": "stream",
     "text": [
      "Loading required package: lattice\n",
      "Loading required package: ggplot2\n",
      "Warning message:\n",
      "\"package 'ggplot2' was built under R version 3.6.3\"Loaded ROSE 0.0-3\n",
      "\n",
      "Warning message:\n",
      "\"package 'stringr' was built under R version 3.6.3\""
     ]
    }
   ],
   "source": [
    "setwd(\"C:/Users/lucia/Desktop\")\n",
    "desafio = read.csv2(\"desafio.csv\")\n",
    "\n",
    "library(caTools)\n",
    "library(scatterplot3d) \n",
    "library(outliers)\n",
    "library(caret)\n",
    "library(ROSE)\n",
    "library(stringr)\n",
    "library(e1071)\n",
    "\n"
   ]
  },
  {
   "cell_type": "markdown",
   "metadata": {},
   "source": [
    "###### Após a leitura dos dados é importante verificar o cabeçalho para definir as colunas que serão usadas na presente análise."
   ]
  },
  {
   "cell_type": "code",
   "execution_count": 2,
   "metadata": {},
   "outputs": [
    {
     "data": {
      "text/html": [
       "<table>\n",
       "<thead><tr><th scope=col>FEATURE.6</th><th scope=col>FEATURE.5</th><th scope=col>FEATURE.4</th><th scope=col>FEATURE.1</th><th scope=col>FEATURE.2</th><th scope=col>FEATURE.3</th><th scope=col>Previsao.A</th><th scope=col>Previsao.B</th><th scope=col>X</th><th scope=col>X.1</th></tr></thead>\n",
       "<tbody>\n",
       "\t<tr><td>03/01/2020</td><td>12:06:57  </td><td>C021K13101</td><td>1180227   </td><td>109B1L    </td><td>10.060    </td><td>0.955     </td><td>BOM       </td><td>NA        </td><td>NA        </td></tr>\n",
       "\t<tr><td>03/01/2020</td><td>21:19:00  </td><td>C021K13102</td><td>1180227   </td><td>109B1L    </td><td>10.052    </td><td>0.955     </td><td>BOM       </td><td>NA        </td><td>NA        </td></tr>\n",
       "\t<tr><td>04/01/2020</td><td>13:34:55  </td><td>C021K14101</td><td>1180227   </td><td>109B1L    </td><td>10.040    </td><td>0.955     </td><td>BOM       </td><td>NA        </td><td>NA        </td></tr>\n",
       "\t<tr><td>04/01/2020</td><td>17:30:46  </td><td>C021K14102</td><td>1180227   </td><td>109B1M    </td><td>10.028    </td><td>0.955     </td><td>BOM       </td><td>NA        </td><td>NA        </td></tr>\n",
       "\t<tr><td>04/01/2020</td><td>23:05:04  </td><td>C021K14103</td><td>1180227   </td><td>109B1M    </td><td>10.067    </td><td>0.955     </td><td>BOM       </td><td>NA        </td><td>NA        </td></tr>\n",
       "\t<tr><td>05/01/2020</td><td>04:22:18  </td><td>C021K15101</td><td>1180227   </td><td>109B1M    </td><td>10.080    </td><td>0.956     </td><td>BOM       </td><td>NA        </td><td>NA        </td></tr>\n",
       "</tbody>\n",
       "</table>\n"
      ],
      "text/latex": [
       "\\begin{tabular}{r|llllllllll}\n",
       " FEATURE.6 & FEATURE.5 & FEATURE.4 & FEATURE.1 & FEATURE.2 & FEATURE.3 & Previsao.A & Previsao.B & X & X.1\\\\\n",
       "\\hline\n",
       "\t 03/01/2020 & 12:06:57   & C021K13101 & 1180227    & 109B1L     & 10.060     & 0.955      & BOM        & NA         & NA        \\\\\n",
       "\t 03/01/2020 & 21:19:00   & C021K13102 & 1180227    & 109B1L     & 10.052     & 0.955      & BOM        & NA         & NA        \\\\\n",
       "\t 04/01/2020 & 13:34:55   & C021K14101 & 1180227    & 109B1L     & 10.040     & 0.955      & BOM        & NA         & NA        \\\\\n",
       "\t 04/01/2020 & 17:30:46   & C021K14102 & 1180227    & 109B1M     & 10.028     & 0.955      & BOM        & NA         & NA        \\\\\n",
       "\t 04/01/2020 & 23:05:04   & C021K14103 & 1180227    & 109B1M     & 10.067     & 0.955      & BOM        & NA         & NA        \\\\\n",
       "\t 05/01/2020 & 04:22:18   & C021K15101 & 1180227    & 109B1M     & 10.080     & 0.956      & BOM        & NA         & NA        \\\\\n",
       "\\end{tabular}\n"
      ],
      "text/markdown": [
       "\n",
       "| FEATURE.6 | FEATURE.5 | FEATURE.4 | FEATURE.1 | FEATURE.2 | FEATURE.3 | Previsao.A | Previsao.B | X | X.1 |\n",
       "|---|---|---|---|---|---|---|---|---|---|\n",
       "| 03/01/2020 | 12:06:57   | C021K13101 | 1180227    | 109B1L     | 10.060     | 0.955      | BOM        | NA         | NA         |\n",
       "| 03/01/2020 | 21:19:00   | C021K13102 | 1180227    | 109B1L     | 10.052     | 0.955      | BOM        | NA         | NA         |\n",
       "| 04/01/2020 | 13:34:55   | C021K14101 | 1180227    | 109B1L     | 10.040     | 0.955      | BOM        | NA         | NA         |\n",
       "| 04/01/2020 | 17:30:46   | C021K14102 | 1180227    | 109B1M     | 10.028     | 0.955      | BOM        | NA         | NA         |\n",
       "| 04/01/2020 | 23:05:04   | C021K14103 | 1180227    | 109B1M     | 10.067     | 0.955      | BOM        | NA         | NA         |\n",
       "| 05/01/2020 | 04:22:18   | C021K15101 | 1180227    | 109B1M     | 10.080     | 0.956      | BOM        | NA         | NA         |\n",
       "\n"
      ],
      "text/plain": [
       "  FEATURE.6  FEATURE.5 FEATURE.4  FEATURE.1 FEATURE.2 FEATURE.3 Previsao.A\n",
       "1 03/01/2020 12:06:57  C021K13101 1180227   109B1L    10.060    0.955     \n",
       "2 03/01/2020 21:19:00  C021K13102 1180227   109B1L    10.052    0.955     \n",
       "3 04/01/2020 13:34:55  C021K14101 1180227   109B1L    10.040    0.955     \n",
       "4 04/01/2020 17:30:46  C021K14102 1180227   109B1M    10.028    0.955     \n",
       "5 04/01/2020 23:05:04  C021K14103 1180227   109B1M    10.067    0.955     \n",
       "6 05/01/2020 04:22:18  C021K15101 1180227   109B1M    10.080    0.956     \n",
       "  Previsao.B X  X.1\n",
       "1 BOM        NA NA \n",
       "2 BOM        NA NA \n",
       "3 BOM        NA NA \n",
       "4 BOM        NA NA \n",
       "5 BOM        NA NA \n",
       "6 BOM        NA NA "
      ]
     },
     "metadata": {},
     "output_type": "display_data"
    }
   ],
   "source": [
    "head(desafio)"
   ]
  },
  {
   "cell_type": "markdown",
   "metadata": {},
   "source": [
    "###### O cabeçalho permitiu verificar que as três primeiras colunas se referem a identificação, como data, hora e uma coluna com dados que não se repetem, sendo assim considerados códigos únicos de cada observação, dessa forma sendo descartados no modelo.\n",
    "###### Além destas três, as duas últimas colunas não apresentam valores, portanto serão excluídas.\n",
    "###### Aqui, optei por criar um novo banco de dados que exclui as colunas 1, 2, 3, 9 e 10. Além disso, renomeei as colunas com nomes mais simplificados apenas para facilitar a manipulação dos dados."
   ]
  },
  {
   "cell_type": "code",
   "execution_count": 3,
   "metadata": {},
   "outputs": [
    {
     "data": {
      "text/html": [
       "<table>\n",
       "<thead><tr><th scope=col>F1</th><th scope=col>F2</th><th scope=col>F3</th><th scope=col>A</th><th scope=col>B</th></tr></thead>\n",
       "<tbody>\n",
       "\t<tr><td>1180227</td><td>109B1L </td><td>10.060 </td><td>0.955  </td><td>BOM    </td></tr>\n",
       "\t<tr><td>1180227</td><td>109B1L </td><td>10.052 </td><td>0.955  </td><td>BOM    </td></tr>\n",
       "\t<tr><td>1180227</td><td>109B1L </td><td>10.040 </td><td>0.955  </td><td>BOM    </td></tr>\n",
       "\t<tr><td>1180227</td><td>109B1M </td><td>10.028 </td><td>0.955  </td><td>BOM    </td></tr>\n",
       "\t<tr><td>1180227</td><td>109B1M </td><td>10.067 </td><td>0.955  </td><td>BOM    </td></tr>\n",
       "\t<tr><td>1180227</td><td>109B1M </td><td>10.080 </td><td>0.956  </td><td>BOM    </td></tr>\n",
       "</tbody>\n",
       "</table>\n"
      ],
      "text/latex": [
       "\\begin{tabular}{r|lllll}\n",
       " F1 & F2 & F3 & A & B\\\\\n",
       "\\hline\n",
       "\t 1180227 & 109B1L  & 10.060  & 0.955   & BOM    \\\\\n",
       "\t 1180227 & 109B1L  & 10.052  & 0.955   & BOM    \\\\\n",
       "\t 1180227 & 109B1L  & 10.040  & 0.955   & BOM    \\\\\n",
       "\t 1180227 & 109B1M  & 10.028  & 0.955   & BOM    \\\\\n",
       "\t 1180227 & 109B1M  & 10.067  & 0.955   & BOM    \\\\\n",
       "\t 1180227 & 109B1M  & 10.080  & 0.956   & BOM    \\\\\n",
       "\\end{tabular}\n"
      ],
      "text/markdown": [
       "\n",
       "| F1 | F2 | F3 | A | B |\n",
       "|---|---|---|---|---|\n",
       "| 1180227 | 109B1L  | 10.060  | 0.955   | BOM     |\n",
       "| 1180227 | 109B1L  | 10.052  | 0.955   | BOM     |\n",
       "| 1180227 | 109B1L  | 10.040  | 0.955   | BOM     |\n",
       "| 1180227 | 109B1M  | 10.028  | 0.955   | BOM     |\n",
       "| 1180227 | 109B1M  | 10.067  | 0.955   | BOM     |\n",
       "| 1180227 | 109B1M  | 10.080  | 0.956   | BOM     |\n",
       "\n"
      ],
      "text/plain": [
       "  F1      F2     F3     A     B  \n",
       "1 1180227 109B1L 10.060 0.955 BOM\n",
       "2 1180227 109B1L 10.052 0.955 BOM\n",
       "3 1180227 109B1L 10.040 0.955 BOM\n",
       "4 1180227 109B1M 10.028 0.955 BOM\n",
       "5 1180227 109B1M 10.067 0.955 BOM\n",
       "6 1180227 109B1M 10.080 0.956 BOM"
      ]
     },
     "metadata": {},
     "output_type": "display_data"
    }
   ],
   "source": [
    "dados = desafio[,c(-1,-2,-3,-9,-10)] #EXCLUIR COLUNAS VAZIAS e de identificação\n",
    "colnames(dados) = c(\"F1\",\"F2\",\"F3\",\"A\",\"B\") #RENOMEAR COLUNAS\n",
    "head(dados)"
   ]
  },
  {
   "cell_type": "markdown",
   "metadata": {},
   "source": [
    "###### O banco de dados apresenta, então, 5 variáveis. Vamos analisá-las e identificar o que deve ser feito em cada uma."
   ]
  },
  {
   "cell_type": "code",
   "execution_count": 4,
   "metadata": {},
   "outputs": [
    {
     "data": {
      "text/plain": [
       "\n",
       "        1180223 1180223/1180227         1180227 1180227/1180223 \n",
       "            129               3              46               1 "
      ]
     },
     "metadata": {},
     "output_type": "display_data"
    }
   ],
   "source": [
    "table(dados$F1) # duas classes interpretáveis"
   ]
  },
  {
   "cell_type": "markdown",
   "metadata": {},
   "source": [
    "###### Variável FEATURE.1 (F1) apresenta 4 classes. Duas delas são combinações das outras. Como não há legendas para o banco de dados e parece haver incoerência nestas classes, iremos descartá-las, substituindo seus valores por NA. Em seguida as outras classes serão transformadas em dummy onde 0 representa \"1180223\" e 1 representa \"1180227\". De outra forma, é uma dummy para \"1180227\", onde 1 significa presença dessa característica e 0 a ausência. Por fim é importante transformá-la em variável numérica."
   ]
  },
  {
   "cell_type": "code",
   "execution_count": 5,
   "metadata": {},
   "outputs": [
    {
     "name": "stderr",
     "output_type": "stream",
     "text": [
      "Warning message in eval(expr, envir, enclos):\n",
      "\"NAs introduzidos por coerção\""
     ]
    }
   ],
   "source": [
    "library(stringr)\n",
    "### transformar em NA dados sem interpretação\n",
    "dados$F1 = str_replace(dados$F1,\"[0-9]+/[0-9]+\",\"NA\")\n",
    "### criar dummy\n",
    "dados$F1 = (str_replace(dados$F1,\"1180223\",\"0\"))\n",
    "dados$F1 = (str_replace(dados$F1,\"1180227\",\"1\"))\n",
    "###transformar em numérica\n",
    "dados$F1 = as.numeric(dados$F1) #aviso de correção de string \"NA\" para NA como dado faltante"
   ]
  },
  {
   "cell_type": "markdown",
   "metadata": {},
   "source": [
    "###### Após realizada a transformação anterior, a coluna passou a apresentar alguns dados faltantes. Há diversas formas de tratar estes dados, aqui optei por retirar as linhas do banco de dados pois são apenas 4 NA produzidos. Em outros casos, porém, não é aconselhável a retirada tendo que optar por outras maneiras de tratamento."
   ]
  },
  {
   "cell_type": "code",
   "execution_count": 6,
   "metadata": {},
   "outputs": [
    {
     "data": {
      "text/plain": [
       "\n",
       "  0   1 \n",
       "129  46 "
      ]
     },
     "metadata": {},
     "output_type": "display_data"
    }
   ],
   "source": [
    "linhas = NULL\n",
    "for( i in 1:nrow(dados)){\n",
    "  if(is.na(dados$F1[i])){\n",
    "    linhas=c(linhas,i)\n",
    "  }\n",
    "}\n",
    "dados = dados[-linhas,]\n",
    "linhas = NULL\n",
    "table(dados$F1)"
   ]
  },
  {
   "cell_type": "markdown",
   "metadata": {},
   "source": [
    "Uma vez tratada a primeira coluna, nota-se que apresenta apenas os valores 0 e 1 conforme o desejado."
   ]
  },
  {
   "cell_type": "markdown",
   "metadata": {},
   "source": [
    "##### Vamos agora visualizar a segunda coluna, através da tabela contendo seus dados."
   ]
  },
  {
   "cell_type": "code",
   "execution_count": 7,
   "metadata": {},
   "outputs": [
    {
     "data": {
      "text/plain": [
       "\n",
       "109B1L 109B1M \n",
       "    56    119 "
      ]
     },
     "metadata": {},
     "output_type": "display_data"
    }
   ],
   "source": [
    "#### F2\n",
    "table(dados$F2) #duas classes, criar dummy"
   ]
  },
  {
   "cell_type": "markdown",
   "metadata": {},
   "source": [
    "##### Essa coluna apresenta duas categorias, portanto pode ser transformada em dummy e posteriormente em dados numéricos."
   ]
  },
  {
   "cell_type": "code",
   "execution_count": 8,
   "metadata": {},
   "outputs": [],
   "source": [
    "dados$F2 = str_replace(dados$F2,\"109B1L\",\"0\")\n",
    "dados$F2 = str_replace(dados$F2,\"109B1M\",\"1\")\n",
    "dados$F2 = as.numeric(dados$F2)\n"
   ]
  },
  {
   "cell_type": "markdown",
   "metadata": {},
   "source": [
    "##### A terceira coluna, F3, apresenta dados numéricos conforme visualizado na tabela a seguir."
   ]
  },
  {
   "cell_type": "code",
   "execution_count": 9,
   "metadata": {},
   "outputs": [
    {
     "data": {
      "text/plain": [
       "\n",
       "10.000 10.001 10.002 10.003 10.004 10.005 10.006 10.007 10.009 10.010 10.011 \n",
       "     4      3      1      3      1      2      1      1      2     13      2 \n",
       "10.012 10.013 10.014 10.016 10.020 10.024 10.025 10.028 10.029 10.030 10.031 \n",
       "     5      2      1      1      6      1      1      1      2      1      1 \n",
       "10.032 10.034 10.035 10.036 10.037 10.038 10.039 10.040 10.041 10.042 10.045 \n",
       "     1      1      2      2      1      1      1     12      2      3      1 \n",
       "10.047 10.048 10.049 10.050 10.051 10.052 10.053 10.054 10.055 10.056 10.057 \n",
       "     2      2      1     13      3      5      2      2      2      4      1 \n",
       "10.059 10.060 10.061 10.062 10.063 10.065 10.067 10.069 10.070 10.072 10.073 \n",
       "     2     13      2      2      2      1      2      2      3      1      5 \n",
       "10.074 10.078 10.080 10.090 10.750  9.976  9.980  9.981  9.983  9.990  9.993 \n",
       "     3      1      4      1      1      1      1      1      1      2      2 \n",
       " 9.994  9.997  9.999 \n",
       "     1      1      1 "
      ]
     },
     "metadata": {},
     "output_type": "display_data"
    }
   ],
   "source": [
    "#### F3\n",
    "table(dados$F3) #variável numérica, retirar \".\" e transformar em numérico"
   ]
  },
  {
   "cell_type": "markdown",
   "metadata": {},
   "source": [
    "##### Estes dados numéricos estão separados por \".\" que simboliza a casa de milhar. É importante retirar esses pontos e transformar a variável em numérica."
   ]
  },
  {
   "cell_type": "code",
   "execution_count": 10,
   "metadata": {},
   "outputs": [],
   "source": [
    "dados$F3 =dados$F3 %>%  str_remove(\"[.]\") %>% as.numeric()"
   ]
  },
  {
   "cell_type": "markdown",
   "metadata": {},
   "source": [
    "##### Antes de passar para próxima coluna, um gráfico dos dados é importante para visualizar a distribuição destes e definir se há outlier que possa interferir nas modelagens futuras. Gráfico de dispersão e boxplot são indicados."
   ]
  },
  {
   "cell_type": "code",
   "execution_count": 11,
   "metadata": {},
   "outputs": [
    {
     "data": {
      "image/png": "[encoded data removed]",
      "text/plain": [
       "plot without title"
      ]
     },
     "metadata": {},
     "output_type": "display_data"
    },
    {
     "data": {
      "image/png": "[encoded data removed]",
      "text/plain": [
       "plot without title"
      ]
     },
     "metadata": {},
     "output_type": "display_data"
    }
   ],
   "source": [
    "plot(dados$F3);boxplot(dados$F3)#RETIRAR OUTLIER"
   ]
  },
  {
   "cell_type": "markdown",
   "metadata": {},
   "source": [
    "##### Os gráficos apontaram a presença de outlier, deve-se retirá-lo. Para tal, vamos transformá-lo em NA e excluir da base de dados a linha que contém o NA."
   ]
  },
  {
   "cell_type": "code",
   "execution_count": 12,
   "metadata": {},
   "outputs": [
    {
     "name": "stderr",
     "output_type": "stream",
     "text": [
      "Warning message in eval(expr, envir, enclos):\n",
      "\"NAs introduzidos por coerção\""
     ]
    }
   ],
   "source": [
    "library(outliers) #pacote para verificas outliers\n",
    "\n",
    "out = outlier(dados$F3)  #detectando NA\n",
    "dados$F3 = ifelse(dados$F3==out,'NA',dados$F3) #substituindo outlier por NA\n",
    "dados$F3 = as.numeric(dados$F3) \n",
    "\n",
    "#verificar linhas com NA\n",
    "linhas = NULL\n",
    "for( i in 1:nrow(dados)){\n",
    "  if(is.na(dados$F3[i])){\n",
    "    linhas=c(linhas,i)\n",
    "  }\n",
    "}\n",
    "#retirar linhas com NA do banco de dados\n",
    "dados = dados[-linhas,]\n",
    "linhas = NULL"
   ]
  },
  {
   "cell_type": "markdown",
   "metadata": {},
   "source": [
    "##### Analisando a coluna da Previsao.A, transformando-a em numérica."
   ]
  },
  {
   "cell_type": "code",
   "execution_count": 13,
   "metadata": {},
   "outputs": [],
   "source": [
    "dados$A = as.numeric(dados$A)"
   ]
  },
  {
   "cell_type": "markdown",
   "metadata": {},
   "source": [
    "##### A coluna da Previsao.B deve ser tratada como um fator."
   ]
  },
  {
   "cell_type": "code",
   "execution_count": 14,
   "metadata": {},
   "outputs": [],
   "source": [
    "dados$B = factor(dados$B, levels = c(\"BOM\",\"RUIM\"))"
   ]
  },
  {
   "cell_type": "markdown",
   "metadata": {},
   "source": [
    "###### Por fim, a estrutura do banco de dados é dada por:"
   ]
  },
  {
   "cell_type": "code",
   "execution_count": 15,
   "metadata": {},
   "outputs": [
    {
     "name": "stdout",
     "output_type": "stream",
     "text": [
      "'data.frame':\t174 obs. of  5 variables:\n",
      " $ F1: num  1 1 1 1 1 1 1 1 1 0 ...\n",
      " $ F2: num  0 0 0 1 1 1 1 0 0 1 ...\n",
      " $ F3: num  10060 10052 10040 10028 10067 ...\n",
      " $ A : num  0.955 0.955 0.955 0.955 0.955 0.956 0.955 0.956 0.955 0.955 ...\n",
      " $ B : Factor w/ 2 levels \"BOM\",\"RUIM\": 1 1 1 1 1 1 1 1 1 1 ...\n"
     ]
    }
   ],
   "source": [
    "str(dados)"
   ]
  },
  {
   "cell_type": "markdown",
   "metadata": {},
   "source": [
    "###### O banco de dados é composto por quatro variáveis numéricas, sendo duas dummies e uma variável fator.\n"
   ]
  },
  {
   "cell_type": "markdown",
   "metadata": {},
   "source": [
    "###### O gráfico abaixo é uma forma de visualizar de forma tridimensional a distribuição dos dados\n"
   ]
  },
  {
   "cell_type": "code",
   "execution_count": 16,
   "metadata": {},
   "outputs": [
    {
     "data": {
      "image/png": "[encoded data removed]",
      "text/plain": [
       "plot without title"
      ]
     },
     "metadata": {},
     "output_type": "display_data"
    }
   ],
   "source": [
    "library(scatterplot3d) #pacote para gráfico 3D\n",
    "cores = c(\"red\", \"black\")\n",
    "cores = cores[as.numeric(dados$B)] \n",
    "pch  = ifelse(cores==cores[1],1,15)\n",
    "scatterplot3d(dados[,1:3],pch = pch,  color=cores,xlim = c(-1,2),ylim = c(0,1))\n"
   ]
  },
  {
   "cell_type": "markdown",
   "metadata": {},
   "source": [
    "###### Na cor preta encontram-se as observções do fator \"RUIM\", em vermelhos as classificadas como \"BOM\"."
   ]
  },
  {
   "cell_type": "markdown",
   "metadata": {},
   "source": [
    "##### Além do gráfico, é importante construir as tabelas de distribuição de frequências absolutas e relativas das variáveis F1 e F2"
   ]
  },
  {
   "cell_type": "code",
   "execution_count": 17,
   "metadata": {},
   "outputs": [
    {
     "data": {
      "text/plain": [
       "\n",
       "  0   1 \n",
       "128  46 "
      ]
     },
     "metadata": {},
     "output_type": "display_data"
    },
    {
     "data": {
      "text/plain": [
       "\n",
       "    0     1 \n",
       "73.56 26.44 "
      ]
     },
     "metadata": {},
     "output_type": "display_data"
    },
    {
     "data": {
      "text/plain": [
       "\n",
       "  0   1 \n",
       " 55 119 "
      ]
     },
     "metadata": {},
     "output_type": "display_data"
    },
    {
     "data": {
      "text/plain": [
       "\n",
       "    0     1 \n",
       "31.61 68.39 "
      ]
     },
     "metadata": {},
     "output_type": "display_data"
    }
   ],
   "source": [
    "#tabelas\n",
    "table(dados$F1)\n",
    "round(prop.table(table(dados$F1))*100,2)\n",
    "\n",
    "table(dados$F2)\n",
    "round(prop.table(table(dados$F2))*100,2)\n"
   ]
  },
  {
   "cell_type": "markdown",
   "metadata": {},
   "source": [
    "##### Os gráficos de dispersão e histograma da FEATURE 3 são importantes para viasualização da distribuição desses dados. "
   ]
  },
  {
   "cell_type": "code",
   "execution_count": 18,
   "metadata": {},
   "outputs": [
    {
     "data": {
      "text/plain": [
       "   Min. 1st Qu.  Median    Mean 3rd Qu.    Max. \n",
       "   9976   10011   10040   10037   10058   10090 "
      ]
     },
     "metadata": {},
     "output_type": "display_data"
    },
    {
     "data": {
      "image/png": "[encoded data removed]",
      "text/plain": [
       "Plot with title \"Distribuição da FEATURE 3\""
      ]
     },
     "metadata": {},
     "output_type": "display_data"
    },
    {
     "data": {
      "image/png": "[encoded data removed]",
      "text/plain": [
       "Plot with title \"Distribuição da FEATURE 3\""
      ]
     },
     "metadata": {},
     "output_type": "display_data"
    }
   ],
   "source": [
    "summary(dados$F3)\n",
    "plot(dados$F3, main=\"Distribuição da FEATURE 3\",xlab=\"Observação\")\n",
    "hist(dados$F3, main=\"Distribuição da FEATURE 3\",xlab=\"Dados\")"
   ]
  },
  {
   "cell_type": "markdown",
   "metadata": {},
   "source": [
    "###### Vamos analisar agora as variáveis de previsão. Apesar de se tratar de variável numérica, os dados da previsão A estão distribuídos entre quatro números apenas, conforme pode ser visto abaixo"
   ]
  },
  {
   "cell_type": "code",
   "execution_count": 19,
   "metadata": {},
   "outputs": [
    {
     "data": {
      "text/plain": [
       "\n",
       "0.954 0.955 0.956 0.961 \n",
       "   22   140    11     1 "
      ]
     },
     "metadata": {},
     "output_type": "display_data"
    },
    {
     "data": {
      "image/png": "[encoded data removed]",
      "text/plain": [
       "plot without title"
      ]
     },
     "metadata": {},
     "output_type": "display_data"
    },
    {
     "data": {
      "image/png": "[encoded data removed]",
      "text/plain": [
       "Plot with title \"Histogram of dados$A\""
      ]
     },
     "metadata": {},
     "output_type": "display_data"
    }
   ],
   "source": [
    "table(dados$A)\n",
    "plot(dados$A)\n",
    "lines(dados$A)\n",
    "hist(dados$A)"
   ]
  },
  {
   "cell_type": "markdown",
   "metadata": {},
   "source": [
    "##### A análise da previsão B pode ser feita através de uma tabela com distribuição absoluta e relativa, bem como um gráfico para melhor visualização."
   ]
  },
  {
   "cell_type": "code",
   "execution_count": 20,
   "metadata": {},
   "outputs": [
    {
     "data": {
      "text/plain": [
       "\n",
       " BOM RUIM \n",
       " 170    4 "
      ]
     },
     "metadata": {},
     "output_type": "display_data"
    },
    {
     "data": {
      "text/plain": [
       "\n",
       " BOM RUIM \n",
       "97.7  2.3 "
      ]
     },
     "metadata": {},
     "output_type": "display_data"
    },
    {
     "data": {
      "image/png": "[encoded data removed]",
      "text/plain": [
       "plot without title"
      ]
     },
     "metadata": {},
     "output_type": "display_data"
    }
   ],
   "source": [
    "table(dados$B) \n",
    "round(prop.table(table(dados$B))*100,2) #dados precisam ser balanceados\n",
    "plot(dados$B)"
   ]
  },
  {
   "cell_type": "markdown",
   "metadata": {},
   "source": [
    "A análise descritiva por meio de tabelas e gráficos é essencial no pré processamento de qualquer banco de dados."
   ]
  },
  {
   "cell_type": "markdown",
   "metadata": {},
   "source": [
    "##### Todo algoritmo de treinamento se inicia pela divisão do banco de dados. O treinamento será feito com 80% dos dados e a base de teste constitui os 20% restantes. Por se tratar de uma escolha aleatória pelo algoritmo, é importante fixar a semente de repetição afim de sempre obter a mesma amostra."
   ]
  },
  {
   "cell_type": "code",
   "execution_count": 21,
   "metadata": {},
   "outputs": [],
   "source": [
    "library(caTools) #pacote da função \n",
    "\n",
    "#dividindo conjunto em treino e teste\n",
    "set.seed(1) #semente\n",
    "divisao = sample.split(dados$B, SplitRatio = 0.8) \n",
    "base_treinamento = subset(dados, divisao == TRUE) #80% para treinamento\n",
    "base_teste = subset(dados, divisao == FALSE) # o restante para teste\n"
   ]
  },
  {
   "cell_type": "markdown",
   "metadata": {},
   "source": [
    "##### A análise descritiva já trouxe um indício de que é necesário balancear os dados, porém vamos realizar a modelagem sem fazê-lo afim de entender o que acontece no treinamento."
   ]
  },
  {
   "cell_type": "code",
   "execution_count": 22,
   "metadata": {},
   "outputs": [
    {
     "data": {
      "text/plain": [
       "\n",
       "Call:\n",
       "svm(formula = B ~ ., data = dados[, -4], type = \"C-classification\", \n",
       "    kernel = \"radial\", cost = 500)\n",
       "\n",
       "\n",
       "Parameters:\n",
       "   SVM-Type:  C-classification \n",
       " SVM-Kernel:  radial \n",
       "       cost:  500 \n",
       "      gamma:  0.3333333 \n",
       "\n",
       "Number of Support Vectors:  19\n"
      ]
     },
     "metadata": {},
     "output_type": "display_data"
    }
   ],
   "source": [
    "############################################### \n",
    "#        TESTAR DADOS SEM BALANCEAR           #\n",
    "###############################################\n",
    "library(\"e1071\")\n",
    "classificador1 = svm(formula = B ~ .,\n",
    "                    data = dados[,-4],\n",
    "                    type = \"C-classification\",\n",
    "                    kernel = \"radial\",\n",
    "                    cost = 500)\n",
    "\n",
    "classificador1"
   ]
  },
  {
   "cell_type": "markdown",
   "metadata": {},
   "source": [
    "##### Após definido o classificador, podemos calcular a previsão e a matriz de confusão que relaciona os dados de teste com a previsão."
   ]
  },
  {
   "cell_type": "code",
   "execution_count": 23,
   "metadata": {},
   "outputs": [
    {
     "data": {
      "text/plain": [
       "Confusion Matrix and Statistics\n",
       "\n",
       "      previsao1\n",
       "       BOM RUIM\n",
       "  BOM   34    0\n",
       "  RUIM   1    0\n",
       "                                          \n",
       "               Accuracy : 0.9714          \n",
       "                 95% CI : (0.8508, 0.9993)\n",
       "    No Information Rate : 1               \n",
       "    P-Value [Acc > NIR] : 1               \n",
       "                                          \n",
       "                  Kappa : 0               \n",
       "                                          \n",
       " Mcnemar's Test P-Value : 1               \n",
       "                                          \n",
       "            Sensitivity : 0.9714          \n",
       "            Specificity :     NA          \n",
       "         Pos Pred Value :     NA          \n",
       "         Neg Pred Value :     NA          \n",
       "             Prevalence : 1.0000          \n",
       "         Detection Rate : 0.9714          \n",
       "   Detection Prevalence : 0.9714          \n",
       "      Balanced Accuracy :     NA          \n",
       "                                          \n",
       "       'Positive' Class : BOM             \n",
       "                                          "
      ]
     },
     "metadata": {},
     "output_type": "display_data"
    }
   ],
   "source": [
    "library(caret) #pacote para usar função confusionMatrix()\n",
    "library (lattice)\n",
    "\n",
    "previsao1 = predict(classificador1, newdata = base_teste[c(1:3)])\n",
    "matriz_confusao1 = table(base_teste[,5],previsao1)\n",
    "confusionMatrix(matriz_confusao1)\n"
   ]
  },
  {
   "cell_type": "markdown",
   "metadata": {},
   "source": [
    "##### A previsão retornou acurácia de 97,14%. Esse número, observado de forma isolada, parece ser bom, porém uma análise ampla demonstra que o classificador não previu o item RUIM. Isto pode significar enorme prejuízo. É a demonstração de que os dados devem ser balanceados."
   ]
  },
  {
   "cell_type": "markdown",
   "metadata": {},
   "source": [
    "#### O balanceamento consiste em equilibrar a proporção de observações em cada classe. A coluna de previsao B apresenta proporção aproximada de 98:2. Quando dividido no banco de testes, apenas uma observação é RUIM, então o classificador erra nessa previsão. Várias são as possibilidades de balancear os dados. Aqui, optei por realizarr sobreamostragem na classe minoritária e subamostragem na majoritária. Isso quer dizer que na classe com menos observações, RUIM, é realizada diversas amostragens afim de aumentar a quantidade de informações. Já na classe majoritária é realizada uma amostragem afim de diminuir seus dados até chegar numa proporção definida."
   ]
  },
  {
   "cell_type": "code",
   "execution_count": 24,
   "metadata": {},
   "outputs": [
    {
     "data": {
      "text/plain": [
       "\n",
       " BOM RUIM \n",
       " 121  123 "
      ]
     },
     "metadata": {},
     "output_type": "display_data"
    },
    {
     "data": {
      "text/plain": [
       "\n",
       "  BOM  RUIM \n",
       "49.59 50.41 "
      ]
     },
     "metadata": {},
     "output_type": "display_data"
    }
   ],
   "source": [
    "##################################### \n",
    "#        BALANCEAR CLASSE           #\n",
    "#####################################\n",
    "library(ROSE)\n",
    "B_balanceado <- ovun.sample(B ~ ., data = base_treinamento[-4], \n",
    "                            method = \"both\", p=0.5,\n",
    "                            N = 136*1.8, seed=1)$data\n",
    "\n",
    "table(B_balanceado$B)\n",
    "round(prop.table(table(B_balanceado$B))*100,2)\n"
   ]
  },
  {
   "cell_type": "markdown",
   "metadata": {},
   "source": [
    "##### Uma vez que os dados foram balanceados é possível construir SVM. A fómula utiliza a previsão B como variável dependente e as três F1, F2 e F3 como preditoras. O tipo usado foi classificação. O primeiro kernel \"radial\", mas outros serão testados."
   ]
  },
  {
   "cell_type": "code",
   "execution_count": 25,
   "metadata": {},
   "outputs": [],
   "source": [
    "##################################### \n",
    "#              PREVISÃO B           #\n",
    "#####################################\n",
    "\n",
    "classificadorB = svm(formula = B ~ .,\n",
    "                    data = B_balanceado,\n",
    "                    type = \"C-classification\",\n",
    "                    kernel = \"radial\")"
   ]
  },
  {
   "cell_type": "code",
   "execution_count": 26,
   "metadata": {},
   "outputs": [
    {
     "data": {
      "text/plain": [
       "previsaoB\n",
       " BOM RUIM \n",
       "  31    4 "
      ]
     },
     "metadata": {},
     "output_type": "display_data"
    }
   ],
   "source": [
    "#Após realizar a classificação na base de treinamento balaceada, é possível realizar as previsões desejadas\n",
    "\n",
    "previsaoB = predict(classificadorB, newdata = base_teste[c(1:3)])\n",
    "table(previsaoB)"
   ]
  },
  {
   "cell_type": "markdown",
   "metadata": {},
   "source": [
    "##### Com os dados de previstos, é aconselhável  criar uma matriz de confusao, ou tabela de contigência, com intuito de comparar os dados previstos e os valores de testes. Em seguida pode-se medir a acurácia da previsão."
   ]
  },
  {
   "cell_type": "code",
   "execution_count": 27,
   "metadata": {},
   "outputs": [
    {
     "data": {
      "text/plain": [
       "Confusion Matrix and Statistics\n",
       "\n",
       "      previsaoB\n",
       "       BOM RUIM\n",
       "  BOM   31    3\n",
       "  RUIM   0    1\n",
       "                                         \n",
       "               Accuracy : 0.9143         \n",
       "                 95% CI : (0.7694, 0.982)\n",
       "    No Information Rate : 0.8857         \n",
       "    P-Value [Acc > NIR] : 0.4216         \n",
       "                                         \n",
       "                  Kappa : 0.3713         \n",
       "                                         \n",
       " Mcnemar's Test P-Value : 0.2482         \n",
       "                                         \n",
       "            Sensitivity : 1.0000         \n",
       "            Specificity : 0.2500         \n",
       "         Pos Pred Value : 0.9118         \n",
       "         Neg Pred Value : 1.0000         \n",
       "             Prevalence : 0.8857         \n",
       "         Detection Rate : 0.8857         \n",
       "   Detection Prevalence : 0.9714         \n",
       "      Balanced Accuracy : 0.6250         \n",
       "                                         \n",
       "       'Positive' Class : BOM            \n",
       "                                         "
      ]
     },
     "metadata": {},
     "output_type": "display_data"
    }
   ],
   "source": [
    "matriz_confusaoB = table(base_teste[,5],previsaoB)\n",
    "confusionMatrix(matriz_confusaoB)\n"
   ]
  },
  {
   "cell_type": "markdown",
   "metadata": {},
   "source": [
    "##### Como desejado, o svm previu corretamente a observação RUIM. Em três previsões, RUIM foi classificado erroneamente, porém, espera-se que este erro não cause grandes prejuízos, sendo considerado um falso negativo de menor impacto. Nesses casos, uma análise do problema estudado é essecial. Há casos em que o custo de determinados erros é muito alto e isto deve ser lavado em conta. Apesar da acurácia desta previsão ser menor quando comparada à previsão sem realização do balanceamento, o erro de não prever a custoso do que classificar como RUIM algumas observações que são BOM.\n"
   ]
  },
  {
   "cell_type": "markdown",
   "metadata": {},
   "source": [
    "#### Outro fator importante é a escolha da função kernel para treinamento da SVM. A primeira testada foi a \"radial\", porém iremmos testar as demais funções disponíveis no pacote."
   ]
  },
  {
   "cell_type": "code",
   "execution_count": 28,
   "metadata": {},
   "outputs": [
    {
     "data": {
      "text/plain": [
       "Confusion Matrix and Statistics\n",
       "\n",
       "      previsaoB.linear\n",
       "       BOM RUIM\n",
       "  BOM   30    4\n",
       "  RUIM   0    1\n",
       "                                         \n",
       "               Accuracy : 0.8857         \n",
       "                 95% CI : (0.7326, 0.968)\n",
       "    No Information Rate : 0.8571         \n",
       "    P-Value [Acc > NIR] : 0.4269         \n",
       "                                         \n",
       "                  Kappa : 0.3            \n",
       "                                         \n",
       " Mcnemar's Test P-Value : 0.1336         \n",
       "                                         \n",
       "            Sensitivity : 1.0000         \n",
       "            Specificity : 0.2000         \n",
       "         Pos Pred Value : 0.8824         \n",
       "         Neg Pred Value : 1.0000         \n",
       "             Prevalence : 0.8571         \n",
       "         Detection Rate : 0.8571         \n",
       "   Detection Prevalence : 0.9714         \n",
       "      Balanced Accuracy : 0.6000         \n",
       "                                         \n",
       "       'Positive' Class : BOM            \n",
       "                                         "
      ]
     },
     "metadata": {},
     "output_type": "display_data"
    }
   ],
   "source": [
    "#kernel linear\n",
    "classificadorB.linear = svm(formula = B ~ .,\n",
    "                     data = B_balanceado,\n",
    "                     type = \"C-classification\",\n",
    "                     kernel = \"linear\",\n",
    "                     cost = 500)\n",
    "previsaoB.linear = predict(classificadorB.linear, newdata = base_teste[c(1:3)])\n",
    "matriz_confusaoB.linear = table(base_teste[,5],previsaoB.linear)\n",
    "confusionMatrix(matriz_confusaoB.linear)\n"
   ]
  },
  {
   "cell_type": "code",
   "execution_count": 29,
   "metadata": {},
   "outputs": [
    {
     "data": {
      "text/plain": [
       "Confusion Matrix and Statistics\n",
       "\n",
       "      previsaoB.polynomial\n",
       "       BOM RUIM\n",
       "  BOM   30    4\n",
       "  RUIM   0    1\n",
       "                                         \n",
       "               Accuracy : 0.8857         \n",
       "                 95% CI : (0.7326, 0.968)\n",
       "    No Information Rate : 0.8571         \n",
       "    P-Value [Acc > NIR] : 0.4269         \n",
       "                                         \n",
       "                  Kappa : 0.3            \n",
       "                                         \n",
       " Mcnemar's Test P-Value : 0.1336         \n",
       "                                         \n",
       "            Sensitivity : 1.0000         \n",
       "            Specificity : 0.2000         \n",
       "         Pos Pred Value : 0.8824         \n",
       "         Neg Pred Value : 1.0000         \n",
       "             Prevalence : 0.8571         \n",
       "         Detection Rate : 0.8571         \n",
       "   Detection Prevalence : 0.9714         \n",
       "      Balanced Accuracy : 0.6000         \n",
       "                                         \n",
       "       'Positive' Class : BOM            \n",
       "                                         "
      ]
     },
     "metadata": {},
     "output_type": "display_data"
    }
   ],
   "source": [
    "#kernel polynomial\n",
    "classificadorB.polynomial = svm(formula = B ~ .,\n",
    "                            data = B_balanceado,\n",
    "                            type = \"C-classification\",\n",
    "                            kernel = \"polynomial\",\n",
    "                            cost = 500)\n",
    "previsaoB.polynomial = predict(classificadorB.polynomial, newdata = base_teste[c(1:3)])\n",
    "matriz_confusaoB.polynomial = table(base_teste[,5],previsaoB.polynomial)\n",
    "confusionMatrix(matriz_confusaoB.polynomial)\n"
   ]
  },
  {
   "cell_type": "code",
   "execution_count": 30,
   "metadata": {},
   "outputs": [
    {
     "data": {
      "text/plain": [
       "Confusion Matrix and Statistics\n",
       "\n",
       "      previsaoB.sigmoid\n",
       "       BOM RUIM\n",
       "  BOM   29    5\n",
       "  RUIM   0    1\n",
       "                                          \n",
       "               Accuracy : 0.8571          \n",
       "                 95% CI : (0.6974, 0.9519)\n",
       "    No Information Rate : 0.8286          \n",
       "    P-Value [Acc > NIR] : 0.43040         \n",
       "                                          \n",
       "                  Kappa : 0.2489          \n",
       "                                          \n",
       " Mcnemar's Test P-Value : 0.07364         \n",
       "                                          \n",
       "            Sensitivity : 1.0000          \n",
       "            Specificity : 0.1667          \n",
       "         Pos Pred Value : 0.8529          \n",
       "         Neg Pred Value : 1.0000          \n",
       "             Prevalence : 0.8286          \n",
       "         Detection Rate : 0.8286          \n",
       "   Detection Prevalence : 0.9714          \n",
       "      Balanced Accuracy : 0.5833          \n",
       "                                          \n",
       "       'Positive' Class : BOM             \n",
       "                                          "
      ]
     },
     "metadata": {},
     "output_type": "display_data"
    }
   ],
   "source": [
    "#kernel sigmoid\n",
    "classificadorB.sigmoid = svm(formula = B ~ .,\n",
    "                                data = B_balanceado,\n",
    "                                type = \"C-classification\",\n",
    "                                kernel = \"sigmoid\",\n",
    "                                cost = 500)\n",
    "previsaoB.sigmoid = predict(classificadorB.sigmoid, newdata = base_teste[c(1:3)])\n",
    "matriz_confusaoB.sigmoid = table(base_teste[,5],previsaoB.sigmoid)\n",
    "confusionMatrix(matriz_confusaoB.sigmoid)"
   ]
  },
  {
   "cell_type": "markdown",
   "metadata": {},
   "source": [
    "#### Pode-se concluir que para o banco de dados testado, a função kernel mais indicado é radial, uma vez que apresentou maior acurácia. "
   ]
  },
  {
   "cell_type": "markdown",
   "metadata": {},
   "source": [
    "#### Para o classificador utilizado para a previsão A, os mesmos passos são seguidos."
   ]
  },
  {
   "cell_type": "code",
   "execution_count": 31,
   "metadata": {},
   "outputs": [],
   "source": [
    "##################################### \n",
    "#              PREVISÃO A           #\n",
    "#####################################\n",
    "classificadorA = svm(formula = A ~ .,\n",
    "                    data = base_treinamento[1:4],\n",
    "                    kernel=\"radial\")\n",
    "              \n",
    "\n"
   ]
  },
  {
   "cell_type": "code",
   "execution_count": 32,
   "metadata": {},
   "outputs": [
    {
     "data": {
      "text/html": [
       "<dl class=dl-horizontal>\n",
       "\t<dt>4</dt>\n",
       "\t\t<dd>0.954931409985963</dd>\n",
       "\t<dt>6</dt>\n",
       "\t\t<dd>0.954931206563172</dd>\n",
       "\t<dt>7</dt>\n",
       "\t\t<dd>0.954932127773591</dd>\n",
       "\t<dt>20</dt>\n",
       "\t\t<dd>0.955005341869697</dd>\n",
       "\t<dt>22</dt>\n",
       "\t\t<dd>0.954932449999479</dd>\n",
       "\t<dt>23</dt>\n",
       "\t\t<dd>0.954932387380601</dd>\n",
       "\t<dt>32</dt>\n",
       "\t\t<dd>0.955062030422837</dd>\n",
       "\t<dt>38</dt>\n",
       "\t\t<dd>0.954935529495504</dd>\n",
       "\t<dt>40</dt>\n",
       "\t\t<dd>0.954982654657421</dd>\n",
       "\t<dt>44</dt>\n",
       "\t\t<dd>0.955017001151738</dd>\n",
       "\t<dt>46</dt>\n",
       "\t\t<dd>0.955000857848318</dd>\n",
       "\t<dt>49</dt>\n",
       "\t\t<dd>0.954982654657421</dd>\n",
       "\t<dt>55</dt>\n",
       "\t\t<dd>0.954977209869376</dd>\n",
       "\t<dt>64</dt>\n",
       "\t\t<dd>0.954982654657421</dd>\n",
       "\t<dt>73</dt>\n",
       "\t\t<dd>0.955007392687435</dd>\n",
       "\t<dt>75</dt>\n",
       "\t\t<dd>0.954982654657421</dd>\n",
       "\t<dt>79</dt>\n",
       "\t\t<dd>0.954993389107067</dd>\n",
       "\t<dt>80</dt>\n",
       "\t\t<dd>0.955007392687435</dd>\n",
       "\t<dt>82</dt>\n",
       "\t\t<dd>0.954982654657421</dd>\n",
       "\t<dt>83</dt>\n",
       "\t\t<dd>0.954932447033813</dd>\n",
       "\t<dt>98</dt>\n",
       "\t\t<dd>0.954932679749748</dd>\n",
       "\t<dt>99</dt>\n",
       "\t\t<dd>0.954933040767608</dd>\n",
       "\t<dt>100</dt>\n",
       "\t\t<dd>0.954932679749748</dd>\n",
       "\t<dt>103</dt>\n",
       "\t\t<dd>0.954932870158382</dd>\n",
       "\t<dt>108</dt>\n",
       "\t\t<dd>0.954902257663433</dd>\n",
       "\t<dt>114</dt>\n",
       "\t\t<dd>0.954932428283601</dd>\n",
       "\t<dt>116</dt>\n",
       "\t\t<dd>0.954932281955028</dd>\n",
       "\t<dt>126</dt>\n",
       "\t\t<dd>0.954580791400667</dd>\n",
       "\t<dt>140</dt>\n",
       "\t\t<dd>0.955067366668544</dd>\n",
       "\t<dt>144</dt>\n",
       "\t\t<dd>0.955067366668544</dd>\n",
       "\t<dt>155</dt>\n",
       "\t\t<dd>0.954932347890573</dd>\n",
       "\t<dt>167</dt>\n",
       "\t\t<dd>0.954933548173765</dd>\n",
       "\t<dt>169</dt>\n",
       "\t\t<dd>0.954932447033813</dd>\n",
       "\t<dt>170</dt>\n",
       "\t\t<dd>0.954932387126994</dd>\n",
       "\t<dt>178</dt>\n",
       "\t\t<dd>0.955065650318926</dd>\n",
       "</dl>\n"
      ],
      "text/latex": [
       "\\begin{description*}\n",
       "\\item[4] 0.954931409985963\n",
       "\\item[6] 0.954931206563172\n",
       "\\item[7] 0.954932127773591\n",
       "\\item[20] 0.955005341869697\n",
       "\\item[22] 0.954932449999479\n",
       "\\item[23] 0.954932387380601\n",
       "\\item[32] 0.955062030422837\n",
       "\\item[38] 0.954935529495504\n",
       "\\item[40] 0.954982654657421\n",
       "\\item[44] 0.955017001151738\n",
       "\\item[46] 0.955000857848318\n",
       "\\item[49] 0.954982654657421\n",
       "\\item[55] 0.954977209869376\n",
       "\\item[64] 0.954982654657421\n",
       "\\item[73] 0.955007392687435\n",
       "\\item[75] 0.954982654657421\n",
       "\\item[79] 0.954993389107067\n",
       "\\item[80] 0.955007392687435\n",
       "\\item[82] 0.954982654657421\n",
       "\\item[83] 0.954932447033813\n",
       "\\item[98] 0.954932679749748\n",
       "\\item[99] 0.954933040767608\n",
       "\\item[100] 0.954932679749748\n",
       "\\item[103] 0.954932870158382\n",
       "\\item[108] 0.954902257663433\n",
       "\\item[114] 0.954932428283601\n",
       "\\item[116] 0.954932281955028\n",
       "\\item[126] 0.954580791400667\n",
       "\\item[140] 0.955067366668544\n",
       "\\item[144] 0.955067366668544\n",
       "\\item[155] 0.954932347890573\n",
       "\\item[167] 0.954933548173765\n",
       "\\item[169] 0.954932447033813\n",
       "\\item[170] 0.954932387126994\n",
       "\\item[178] 0.955065650318926\n",
       "\\end{description*}\n"
      ],
      "text/markdown": [
       "4\n",
       ":   0.9549314099859636\n",
       ":   0.9549312065631727\n",
       ":   0.95493212777359120\n",
       ":   0.95500534186969722\n",
       ":   0.95493244999947923\n",
       ":   0.95493238738060132\n",
       ":   0.95506203042283738\n",
       ":   0.95493552949550440\n",
       ":   0.95498265465742144\n",
       ":   0.95501700115173846\n",
       ":   0.95500085784831849\n",
       ":   0.95498265465742155\n",
       ":   0.95497720986937664\n",
       ":   0.95498265465742173\n",
       ":   0.95500739268743575\n",
       ":   0.95498265465742179\n",
       ":   0.95499338910706780\n",
       ":   0.95500739268743582\n",
       ":   0.95498265465742183\n",
       ":   0.95493244703381398\n",
       ":   0.95493267974974899\n",
       ":   0.954933040767608100\n",
       ":   0.954932679749748103\n",
       ":   0.954932870158382108\n",
       ":   0.954902257663433114\n",
       ":   0.954932428283601116\n",
       ":   0.954932281955028126\n",
       ":   0.954580791400667140\n",
       ":   0.955067366668544144\n",
       ":   0.955067366668544155\n",
       ":   0.954932347890573167\n",
       ":   0.954933548173765169\n",
       ":   0.954932447033813170\n",
       ":   0.954932387126994178\n",
       ":   0.955065650318926\n",
       "\n"
      ],
      "text/plain": [
       "        4         6         7        20        22        23        32        38 \n",
       "0.9549314 0.9549312 0.9549321 0.9550053 0.9549324 0.9549324 0.9550620 0.9549355 \n",
       "       40        44        46        49        55        64        73        75 \n",
       "0.9549827 0.9550170 0.9550009 0.9549827 0.9549772 0.9549827 0.9550074 0.9549827 \n",
       "       79        80        82        83        98        99       100       103 \n",
       "0.9549934 0.9550074 0.9549827 0.9549324 0.9549327 0.9549330 0.9549327 0.9549329 \n",
       "      108       114       116       126       140       144       155       167 \n",
       "0.9549023 0.9549324 0.9549323 0.9545808 0.9550674 0.9550674 0.9549323 0.9549335 \n",
       "      169       170       178 \n",
       "0.9549324 0.9549324 0.9550657 "
      ]
     },
     "metadata": {},
     "output_type": "display_data"
    }
   ],
   "source": [
    "previsaoA = predict(classificadorA, newdata = base_teste[1:3])\n",
    "previsaoA\n",
    "prev =  round(previsaoA,3)\n",
    "\n"
   ]
  },
  {
   "cell_type": "code",
   "execution_count": 33,
   "metadata": {},
   "outputs": [
    {
     "name": "stdout",
     "output_type": "stream",
     "text": [
      "Base de teste"
     ]
    },
    {
     "data": {
      "text/plain": [
       "\n",
       "0.954 0.955 0.956 \n",
       "    3    29     3 "
      ]
     },
     "metadata": {},
     "output_type": "display_data"
    },
    {
     "name": "stdout",
     "output_type": "stream",
     "text": [
      "\n",
      "Previsão"
     ]
    },
    {
     "data": {
      "text/plain": [
       "prev\n",
       "0.955 \n",
       "   35 "
      ]
     },
     "metadata": {},
     "output_type": "display_data"
    }
   ],
   "source": [
    "cat(\"Base de teste\")\n",
    "table(base_teste[,4])\n",
    "\n",
    "cat(\"\\nPrevisão\")\n",
    "table(prev)"
   ]
  },
  {
   "cell_type": "code",
   "execution_count": 34,
   "metadata": {},
   "outputs": [
    {
     "data": {
      "text/plain": [
       "       \n",
       "        0.955\n",
       "  0.954     3\n",
       "  0.955    29\n",
       "  0.956     3"
      ]
     },
     "metadata": {},
     "output_type": "display_data"
    }
   ],
   "source": [
    "matriz_confusaoA = table( base_teste[,4] , round(previsaoA,3))\n",
    "matriz_confusaoA"
   ]
  },
  {
   "cell_type": "markdown",
   "metadata": {},
   "source": [
    "#### Apesar de se tratar de dados numéricos e as previsões apresentarem diversas casas decimais, quando realizado o arredondamento construída a matriz de confusão, foi possível notar que todas os valores previstos são aproximadamente 0.955. Entende-se que esta não é uma boa previsão, portanto é necessário realizar o balanceamento dos dados."
   ]
  },
  {
   "cell_type": "code",
   "execution_count": 35,
   "metadata": {},
   "outputs": [
    {
     "data": {
      "text/plain": [
       "\n",
       "0.954 0.955 0.956 0.961 \n",
       "   19   111     8     1 "
      ]
     },
     "metadata": {},
     "output_type": "display_data"
    }
   ],
   "source": [
    "table(base_treinamento[,4])"
   ]
  },
  {
   "cell_type": "markdown",
   "metadata": {},
   "source": [
    "##### Os dados da base de treinamento estão distribuídos em quatro valore, sendo o \"0.961\" apresentando apenas uma observação, portanto será desconsiderado. Os outros valores serão dividos em pares contendo a classe majoritária afim de realizar subamostragem e sobreamostragem com intuito de equilibrar a classe."
   ]
  },
  {
   "cell_type": "code",
   "execution_count": 36,
   "metadata": {},
   "outputs": [
    {
     "data": {
      "text/plain": [
       "\n",
       "    0.954     0.955     0.956 \n",
       "0.3028571 0.4400000 0.2571429 "
      ]
     },
     "metadata": {},
     "output_type": "display_data"
    }
   ],
   "source": [
    "set.seed(1)\n",
    "A_balanceado54 <- ovun.sample(as.factor(A) ~ ., data =subset(base_treinamento[,-5],A==0.954|A==0.955), \n",
    "                            method = \"both\", p=0.6,\n",
    "                            N = 50*1.8, seed=1)$data\n",
    "A_balanceado56 <- ovun.sample(as.factor(A) ~ ., data =subset(base_treinamento[,-5],A==0.956|A==0.955), \n",
    "                              method = \"both\", p=0.6,\n",
    "                              N = 50*1.5, seed=1)$data\n",
    "A_balaceado = merge(A_balanceado54,A_balanceado56,all = T)\n",
    "prop.table(table(A_balaceado$A))\n",
    "\n",
    "A_balaceado$A = as.numeric(A_balaceado$A) "
   ]
  },
  {
   "cell_type": "markdown",
   "metadata": {},
   "source": [
    "#### Após realizar o balanceamento, pode-se seguir os passos para construção do SVM."
   ]
  },
  {
   "cell_type": "code",
   "execution_count": 37,
   "metadata": {},
   "outputs": [
    {
     "data": {
      "text/plain": [
       "Confusion Matrix and Statistics\n",
       "\n",
       "       previsaoA\n",
       "        0.954 0.955 0.956\n",
       "  0.954     1     2     0\n",
       "  0.955    13    12     4\n",
       "  0.956     0     3     0\n",
       "\n",
       "Overall Statistics\n",
       "                                          \n",
       "               Accuracy : 0.3714          \n",
       "                 95% CI : (0.2147, 0.5508)\n",
       "    No Information Rate : 0.4857          \n",
       "    P-Value [Acc > NIR] : 0.9369          \n",
       "                                          \n",
       "                  Kappa : -0.1357         \n",
       "                                          \n",
       " Mcnemar's Test P-Value : NA              \n",
       "\n",
       "Statistics by Class:\n",
       "\n",
       "                     Class: 0.954 Class: 0.955 Class: 0.956\n",
       "Sensitivity               0.07143      0.70588      0.00000\n",
       "Specificity               0.90476      0.05556      0.90323\n",
       "Pos Pred Value            0.33333      0.41379      0.00000\n",
       "Neg Pred Value            0.59375      0.16667      0.87500\n",
       "Prevalence                0.40000      0.48571      0.11429\n",
       "Detection Rate            0.02857      0.34286      0.00000\n",
       "Detection Prevalence      0.08571      0.82857      0.08571\n",
       "Balanced Accuracy         0.48810      0.38072      0.45161"
      ]
     },
     "metadata": {},
     "output_type": "display_data"
    }
   ],
   "source": [
    "classificadorA = svm(formula = A ~ .,\n",
    "                     data = A_balaceado[1:4],\n",
    "                     kernel=\"radial\")\n",
    "previsaoA = predict(classificadorA, newdata = base_teste[1:3])\n",
    "previsaoA = round(previsaoA,3)\n",
    "matriz_confusaoA = table(base_teste[,4],previsaoA)\n",
    "confusionMatrix(matriz_confusaoA)"
   ]
  },
  {
   "cell_type": "markdown",
   "metadata": {},
   "source": [
    "#### O mesmo será feito para diferentes tipos de função  kernel."
   ]
  },
  {
   "cell_type": "code",
   "execution_count": 38,
   "metadata": {},
   "outputs": [
    {
     "data": {
      "text/plain": [
       "       previsaoA.linear\n",
       "        0.954 0.955\n",
       "  0.954     1     2\n",
       "  0.955     8    21\n",
       "  0.956     2     1"
      ]
     },
     "metadata": {},
     "output_type": "display_data"
    }
   ],
   "source": [
    "classificadorA.linear = svm(formula = A ~ .,\n",
    "                     data = A_balaceado[1:4],\n",
    "                     kernel=\"linear\")\n",
    "previsaoA.linear = predict(classificadorA.linear, newdata = base_teste[1:3])\n",
    "previsaoA.linear = round(previsaoA.linear,3)\n",
    "matriz_confusaoA.linear = table(base_teste[,4],previsaoA.linear)\n",
    "matriz_confusaoA.linear"
   ]
  },
  {
   "cell_type": "code",
   "execution_count": 39,
   "metadata": {},
   "outputs": [
    {
     "data": {
      "text/plain": [
       "Confusion Matrix and Statistics\n",
       "\n",
       "       previsaoA.polynomial\n",
       "        0.954 0.955 0.956\n",
       "  0.954     1     2     0\n",
       "  0.955     5    21     3\n",
       "  0.956     0     3     0\n",
       "\n",
       "Overall Statistics\n",
       "                                          \n",
       "               Accuracy : 0.6286          \n",
       "                 95% CI : (0.4492, 0.7853)\n",
       "    No Information Rate : 0.7429          \n",
       "    P-Value [Acc > NIR] : 0.9547          \n",
       "                                          \n",
       "                  Kappa : -0.0248         \n",
       "                                          \n",
       " Mcnemar's Test P-Value : NA              \n",
       "\n",
       "Statistics by Class:\n",
       "\n",
       "                     Class: 0.954 Class: 0.955 Class: 0.956\n",
       "Sensitivity               0.16667       0.8077      0.00000\n",
       "Specificity               0.93103       0.1111      0.90625\n",
       "Pos Pred Value            0.33333       0.7241      0.00000\n",
       "Neg Pred Value            0.84375       0.1667      0.90625\n",
       "Prevalence                0.17143       0.7429      0.08571\n",
       "Detection Rate            0.02857       0.6000      0.00000\n",
       "Detection Prevalence      0.08571       0.8286      0.08571\n",
       "Balanced Accuracy         0.54885       0.4594      0.45312"
      ]
     },
     "metadata": {},
     "output_type": "display_data"
    }
   ],
   "source": [
    "classificadorA.polynomial = svm(formula = A ~ .,\n",
    "                            data = A_balaceado[1:4],\n",
    "                            kernel=\"polynomial\")\n",
    "previsaoA.polynomial = predict(classificadorA.polynomial, newdata = base_teste[1:3])\n",
    "previsaoA.polynomial = round(previsaoA.polynomial,3)\n",
    "matriz_confusaoA.polynomial = table(base_teste[,4],previsaoA.polynomial)\n",
    "confusionMatrix(matriz_confusaoA.polynomial)"
   ]
  },
  {
   "cell_type": "code",
   "execution_count": 40,
   "metadata": {},
   "outputs": [
    {
     "data": {
      "text/plain": [
       "       previsaoA.sigmoid\n",
       "        0.952 0.953 0.954 0.955 0.956 0.957 0.963 0.965 0.969\n",
       "  0.954     0     0     0     2     0     0     0     1     0\n",
       "  0.955     4     1     7    11     3     1     1     0     1\n",
       "  0.956     2     0     1     0     0     0     0     0     0"
      ]
     },
     "metadata": {},
     "output_type": "display_data"
    }
   ],
   "source": [
    "\n",
    "classificadorA.sigmoid = svm(formula = A ~ .,\n",
    "                            data = A_balaceado[1:4],\n",
    "                            kernel=\"sigmoid\")\n",
    "previsaoA.sigmoid = predict(classificadorA.sigmoid, newdata = base_teste[1:3])\n",
    "previsaoA.sigmoid = round(previsaoA.sigmoid,3)\n",
    "(matriz_confusaoA.sigmoid = table(base_teste[,4],previsaoA.sigmoid))"
   ]
  },
  {
   "cell_type": "markdown",
   "metadata": {},
   "source": [
    "##### Para os dados da Previsão A, o critério de decisão do melhor modelo de previsão deverá levar em consideração qual dos valores está disposto a errar mais. "
   ]
  },
  {
   "cell_type": "markdown",
   "metadata": {},
   "source": [
    "# COMENTÁRIOS FINAIS\n",
    "\n",
    "### O teste passado consistia em construir um modelo pré determinado para previsão de dados categóricos e numéricos. A análise se iniciou pelo verificação de cada variável pertencente ao banco de dados. Em seguida, uma análise descritiva demonstrou a necessidade de tratamento, redefinindo variáveis e realizando balanceamento dos dados. Por fim foi realizado o método de classificação para então realizar as previsões. É importante frisar que em qualquer análise deve-se entender as componentes bem como o problema a ser resolvido. Números por si só nada refletem se não houver uma contextualização do problema envolvido.\n",
    "\n",
    "## LUCIANA CAVALCANTE GUALBERTO\n"
   ]
  }
 ],
 "metadata": {
  "kernelspec": {
   "display_name": "R",
   "language": "R",
   "name": "ir"
  },
  "language_info": {
   "codemirror_mode": "r",
   "file_extension": ".r",
   "mimetype": "text/x-r-source",
   "name": "R",
   "pygments_lexer": "r",
   "version": "3.6.1"
  }
 },
 "nbformat": 4,
 "nbformat_minor": 4
}
